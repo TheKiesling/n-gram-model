{
 "cells": [
  {
   "cell_type": "markdown",
   "id": "c4e48c49",
   "metadata": {},
   "source": [
    "# N-gram Model"
   ]
  },
  {
   "cell_type": "markdown",
   "id": "7cb22b91",
   "metadata": {},
   "source": [
    "### José Pablo Kiesling Lange"
   ]
  },
  {
   "cell_type": "code",
   "execution_count": 1,
   "id": "4d887ee2",
   "metadata": {},
   "outputs": [],
   "source": [
    "import re\n",
    "from collections import Counter\n",
    "from collections import defaultdict\n",
    "import math\n",
    "\n",
    "import matplotlib.pyplot as plt\n",
    "\n",
    "import nltk\n",
    "from nltk import bigrams\n",
    "from nltk.util import ngrams\n",
    "from nltk.corpus import cess_esp"
   ]
  },
  {
   "cell_type": "code",
   "execution_count": 2,
   "id": "afb89a66",
   "metadata": {},
   "outputs": [
    {
     "name": "stderr",
     "output_type": "stream",
     "text": [
      "[nltk_data] Downloading package cess_esp to\n",
      "[nltk_data]     C:\\Users\\TheKi\\AppData\\Roaming\\nltk_data...\n",
      "[nltk_data]   Package cess_esp is already up-to-date!\n",
      "[nltk_data] Downloading package punkt to\n",
      "[nltk_data]     C:\\Users\\TheKi\\AppData\\Roaming\\nltk_data...\n",
      "[nltk_data]   Package punkt is already up-to-date!\n",
      "[nltk_data] Downloading package punkt_tab to\n",
      "[nltk_data]     C:\\Users\\TheKi\\AppData\\Roaming\\nltk_data...\n",
      "[nltk_data]   Package punkt_tab is already up-to-date!\n"
     ]
    },
    {
     "data": {
      "text/plain": [
       "True"
      ]
     },
     "execution_count": 2,
     "metadata": {},
     "output_type": "execute_result"
    }
   ],
   "source": [
    "nltk.download('cess_esp')\n",
    "nltk.download('punkt')\n",
    "nltk.download('punkt_tab')"
   ]
  },
  {
   "cell_type": "code",
   "execution_count": 3,
   "id": "ff48ebe2",
   "metadata": {},
   "outputs": [],
   "source": [
    "corpus_nltk = cess_esp.words()"
   ]
  },
  {
   "cell_type": "markdown",
   "id": "8f9065f5",
   "metadata": {},
   "source": [
    "## Estandarización"
   ]
  },
  {
   "cell_type": "markdown",
   "id": "00fd2e45",
   "metadata": {},
   "source": [
    "Para ver la efectivdad de la estandarización, se mostrará las 10 palabras más frecuentes del corpus antes y después de la estandarización. El objetivo es ver si hay modificación en la cantidad de dichas palabras o si una nueva palabra aparece con frecuencia."
   ]
  },
  {
   "cell_type": "code",
   "execution_count": 4,
   "id": "6778225e",
   "metadata": {},
   "outputs": [],
   "source": [
    "def get_most_common_words(corpus, n=10):\n",
    "    words = [word for line in corpus for word in line.split()]\n",
    "    most_common = Counter(words).most_common(n)\n",
    "    return most_common"
   ]
  },
  {
   "cell_type": "code",
   "execution_count": 5,
   "id": "ae9174ce",
   "metadata": {},
   "outputs": [
    {
     "data": {
      "text/plain": [
       "[(',', 11420),\n",
       " ('de', 10234),\n",
       " ('la', 6412),\n",
       " ('.', 5866),\n",
       " ('que', 5552),\n",
       " ('el', 5199),\n",
       " ('en', 4340),\n",
       " ('y', 4235),\n",
       " ('*0*', 3883),\n",
       " ('\"', 3038)]"
      ]
     },
     "execution_count": 5,
     "metadata": {},
     "output_type": "execute_result"
    }
   ],
   "source": [
    "most_common_words = get_most_common_words(corpus_nltk, n=10)\n",
    "most_common_words"
   ]
  },
  {
   "cell_type": "markdown",
   "id": "58195adc",
   "metadata": {},
   "source": [
    "Además se mostrará los primeros 25 tokens del corpus antes y después de la estandarización."
   ]
  },
  {
   "cell_type": "code",
   "execution_count": 6,
   "id": "adb4e30f",
   "metadata": {},
   "outputs": [
    {
     "data": {
      "text/plain": [
       "['El',\n",
       " 'grupo',\n",
       " 'estatal',\n",
       " 'Electricité_de_France',\n",
       " '-Fpa-',\n",
       " 'EDF',\n",
       " '-Fpt-',\n",
       " 'anunció',\n",
       " 'hoy',\n",
       " ',',\n",
       " 'jueves',\n",
       " ',',\n",
       " 'la',\n",
       " 'compra',\n",
       " 'del',\n",
       " '51_por_ciento',\n",
       " 'de',\n",
       " 'la',\n",
       " 'empresa',\n",
       " 'mexicana',\n",
       " 'Electricidad_Águila_de_Altamira',\n",
       " '-Fpa-',\n",
       " 'EAA',\n",
       " '-Fpt-',\n",
       " ',']"
      ]
     },
     "execution_count": 6,
     "metadata": {},
     "output_type": "execute_result"
    }
   ],
   "source": [
    "corpus_nltk[:25]"
   ]
  },
  {
   "cell_type": "markdown",
   "id": "6f9c6514",
   "metadata": {},
   "source": [
    "Como se puede apreciar, hay palabras que tienen `_` en los tokens y separan palabras. Por lo que se harán las funciones específicas para limpiar los tokens y separar las palabras."
   ]
  },
  {
   "cell_type": "code",
   "execution_count": 7,
   "id": "f30a57c3",
   "metadata": {},
   "outputs": [],
   "source": [
    "def replace_whitespaces(word):\n",
    "    return \"\".join(re.sub('_', ' ', word))"
   ]
  },
  {
   "cell_type": "code",
   "execution_count": 8,
   "id": "83ac858c",
   "metadata": {},
   "outputs": [],
   "source": [
    "def separate_words(word):\n",
    "    return word.split()"
   ]
  },
  {
   "cell_type": "code",
   "execution_count": 9,
   "id": "b22f7742",
   "metadata": {},
   "outputs": [],
   "source": [
    "corpus = []"
   ]
  },
  {
   "cell_type": "code",
   "execution_count": 10,
   "id": "3e9d8b19",
   "metadata": {},
   "outputs": [],
   "source": [
    "corpus_without_underscore = [replace_whitespaces(word) for word in corpus_nltk]"
   ]
  },
  {
   "cell_type": "code",
   "execution_count": 11,
   "id": "2b823e51",
   "metadata": {},
   "outputs": [],
   "source": [
    "for word in corpus_without_underscore:\n",
    "    if len(word.split()) > 1:\n",
    "        corpus.extend(separate_words(word))\n",
    "    else:\n",
    "        corpus.append(word)"
   ]
  },
  {
   "cell_type": "markdown",
   "id": "a71b00c7",
   "metadata": {},
   "source": [
    "Además, se puede ver que hay tokens que empiezan con caracteres no alfanuméricos o que contienen caracteres especiales. Específicamente, los siguientes"
   ]
  },
  {
   "cell_type": "code",
   "execution_count": 12,
   "id": "d80663df",
   "metadata": {},
   "outputs": [
    {
     "data": {
      "text/plain": [
       "['km/h',\n",
       " '1992/93',\n",
       " 'm.75',\n",
       " '2.133.297',\n",
       " '136.400',\n",
       " '%',\n",
       " 'Helms-Burton',\n",
       " '3,5',\n",
       " '40.000',\n",
       " '0,92']"
      ]
     },
     "execution_count": 12,
     "metadata": {},
     "output_type": "execute_result"
    }
   ],
   "source": [
    "list(set(word for word in corpus if not word.isalnum()))[:10]"
   ]
  },
  {
   "cell_type": "markdown",
   "id": "4e8a7fcb",
   "metadata": {},
   "source": [
    "Como se puede ver, hay palabras que tienen `'`o `\"` en los tokens por lo que *solo* se eliminarán esos caracteres y no el resto del token. En los otros casos, no representan alguna palabra, por lo que se eliminarán completamente."
   ]
  },
  {
   "cell_type": "code",
   "execution_count": 13,
   "id": "945bdfae",
   "metadata": {},
   "outputs": [],
   "source": [
    "def clean_word(word):\n",
    "    if re.search(r'[^a-zA-Z0-9\\'\"áéíóúÁÉÍÓÚ]', word):\n",
    "        return \"\"\n",
    "    \n",
    "    return re.sub(r'[^a-zA-Z0-9áéíóúÁÉÍÓÚ]', '', word)"
   ]
  },
  {
   "cell_type": "code",
   "execution_count": 14,
   "id": "5afa2f08",
   "metadata": {},
   "outputs": [],
   "source": [
    "corpus = [clean_word(word) for word in corpus]"
   ]
  },
  {
   "cell_type": "code",
   "execution_count": 15,
   "id": "1c0e1f47",
   "metadata": {},
   "outputs": [],
   "source": [
    "corpus = [word for word in corpus if clean_word(word) != '']"
   ]
  },
  {
   "cell_type": "markdown",
   "id": "5d0438ec",
   "metadata": {},
   "source": [
    "Finalmente, se pondrán las palabras en minúsculas solo si no es sigla o acrónimo. Para esto, se hará una función que verifique si la palabra está en mayúsculas y si no es así, la pondrá en minúsculas."
   ]
  },
  {
   "cell_type": "code",
   "execution_count": 16,
   "id": "3a9ab178",
   "metadata": {},
   "outputs": [],
   "source": [
    "def case_folding(corpus):\n",
    "    return [word.lower() if not word.isupper() else word for word in corpus]"
   ]
  },
  {
   "cell_type": "code",
   "execution_count": 17,
   "id": "4d473821",
   "metadata": {},
   "outputs": [],
   "source": [
    "corpus = case_folding(corpus)"
   ]
  },
  {
   "cell_type": "code",
   "execution_count": 18,
   "id": "0022c5b1",
   "metadata": {},
   "outputs": [
    {
     "data": {
      "text/plain": [
       "[('de', 11828),\n",
       " ('la', 7150),\n",
       " ('el', 6079),\n",
       " ('que', 5943),\n",
       " ('en', 4991),\n",
       " ('y', 4318),\n",
       " ('a', 3493),\n",
       " ('los', 3229),\n",
       " ('del', 2514),\n",
       " ('las', 1956)]"
      ]
     },
     "execution_count": 18,
     "metadata": {},
     "output_type": "execute_result"
    }
   ],
   "source": [
    "most_common_words = get_most_common_words(corpus, n=10)\n",
    "most_common_words"
   ]
  },
  {
   "cell_type": "code",
   "execution_count": 19,
   "id": "547b50ec",
   "metadata": {},
   "outputs": [
    {
     "data": {
      "text/plain": [
       "['el',\n",
       " 'grupo',\n",
       " 'estatal',\n",
       " 'electricité',\n",
       " 'de',\n",
       " 'france',\n",
       " 'EDF',\n",
       " 'anunció',\n",
       " 'hoy',\n",
       " 'jueves',\n",
       " 'la',\n",
       " 'compra',\n",
       " 'del',\n",
       " '51',\n",
       " 'por',\n",
       " 'ciento',\n",
       " 'de',\n",
       " 'la',\n",
       " 'empresa',\n",
       " 'mexicana',\n",
       " 'electricidad',\n",
       " 'águila',\n",
       " 'de',\n",
       " 'altamira',\n",
       " 'EAA']"
      ]
     },
     "execution_count": 19,
     "metadata": {},
     "output_type": "execute_result"
    }
   ],
   "source": [
    "corpus[:25]"
   ]
  },
  {
   "cell_type": "markdown",
   "id": "9a89f4d1",
   "metadata": {},
   "source": [
    "Como se puede apreciar, ya solo hay palabras alfanuméricas y con acentos. Y todas están separadas como se debe"
   ]
  },
  {
   "cell_type": "markdown",
   "id": "dba60398",
   "metadata": {},
   "source": [
    "## Model 2-gram based"
   ]
  },
  {
   "cell_type": "markdown",
   "id": "53b23a0f",
   "metadata": {},
   "source": [
    "La implementación del modelo se hizo en base a la implementación de [geeksforgeeks](https://www.geeksforgeeks.org/nlp/n-gram-language-modelling-with-nltk/)."
   ]
  },
  {
   "cell_type": "code",
   "execution_count": 20,
   "id": "3cc9cc2f",
   "metadata": {},
   "outputs": [],
   "source": [
    "words = nltk.word_tokenize(' '.join(corpus), language='spanish')"
   ]
  },
  {
   "cell_type": "code",
   "execution_count": 21,
   "id": "02503c65",
   "metadata": {},
   "outputs": [],
   "source": [
    "def get_bigrams(tokens):\n",
    "    bigrams = defaultdict(Counter)\n",
    "    \n",
    "    for i, token in enumerate(tokens[:-1]):\n",
    "        w1 = token\n",
    "        w2 = tokens[i + 1]\n",
    "        bigrams[w1][w2] += 1\n",
    "\n",
    "    return bigrams"
   ]
  },
  {
   "cell_type": "code",
   "execution_count": 22,
   "id": "81d59c0b",
   "metadata": {},
   "outputs": [],
   "source": [
    "def get_ngram_probabilities(bigrams):\n",
    "    probabilities = defaultdict(dict)\n",
    "    \n",
    "    for w1, w2_counts in bigrams.items():\n",
    "        total_count = sum(w2_counts.values())\n",
    "        for w2, count in w2_counts.items():\n",
    "            probabilities[w1][w2] = count / total_count\n",
    "\n",
    "    return probabilities"
   ]
  },
  {
   "cell_type": "code",
   "execution_count": 23,
   "id": "9458a69f",
   "metadata": {},
   "outputs": [],
   "source": [
    "bigram = get_bigrams(words)\n",
    "bigram_probabilities = get_ngram_probabilities(bigram)"
   ]
  },
  {
   "cell_type": "code",
   "execution_count": 24,
   "id": "17cac644",
   "metadata": {},
   "outputs": [
    {
     "data": {
      "text/plain": [
       "0.1439803855258708"
      ]
     },
     "execution_count": 24,
     "metadata": {},
     "output_type": "execute_result"
    }
   ],
   "source": [
    "bigram_probabilities['de']['la']"
   ]
  },
  {
   "cell_type": "markdown",
   "id": "e488d37f",
   "metadata": {},
   "source": [
    "la probabilidad de que la palabra `la` (segunda más frecuente en el corpus) siga a la palabra `de` (la más frecuente en el corpus) es de 0.14"
   ]
  },
  {
   "cell_type": "code",
   "execution_count": 25,
   "id": "4cdd32fd",
   "metadata": {},
   "outputs": [],
   "source": [
    "def predict_next_words(w1, length, model):\n",
    "    prediction = [w1]\n",
    "\n",
    "    for _ in range(length):\n",
    "        w1 = prediction[-1]\n",
    "        if w1 in model and model[w1]:\n",
    "            w2 = max(model[w1], key=model[w1].get)\n",
    "        prediction.append(w2)\n",
    "\n",
    "    return prediction\n"
   ]
  },
  {
   "cell_type": "code",
   "execution_count": 26,
   "id": "0dee36f0",
   "metadata": {},
   "outputs": [
    {
     "data": {
      "text/plain": [
       "['francia', 'y', 'el', 'que', 'se', 'ha']"
      ]
     },
     "execution_count": 26,
     "metadata": {},
     "output_type": "execute_result"
    }
   ],
   "source": [
    "predict_next_words('francia', 5, bigram_probabilities)"
   ]
  },
  {
   "cell_type": "markdown",
   "id": "c54b7494",
   "metadata": {},
   "source": [
    "## Preplejidad"
   ]
  },
  {
   "cell_type": "code",
   "execution_count": 27,
   "id": "8c73eada",
   "metadata": {},
   "outputs": [],
   "source": [
    "sentence = 'la potencia del gas natural es muy importante para el desarrollo sostenible'"
   ]
  },
  {
   "cell_type": "code",
   "execution_count": 28,
   "id": "69c8ecfb",
   "metadata": {},
   "outputs": [],
   "source": [
    "def calculate_perplexity(sentence, probabilities):\n",
    "    perplexity = float('inf')\n",
    "    \n",
    "    words = nltk.word_tokenize(sentence, language='spanish')\n",
    "    model_ngrams = list(bigrams(words))\n",
    "    log_prob_sum = 0.0\n",
    "    for w1, w2 in model_ngrams:\n",
    "        prob = probabilities.get(w1, {}).get(w2, 1e-5)\n",
    "        log_prob_sum += math.log(prob)\n",
    "        \n",
    "    perplexity = math.exp(-log_prob_sum / len(model_ngrams))\n",
    "        \n",
    "    return perplexity"
   ]
  },
  {
   "cell_type": "code",
   "execution_count": 29,
   "id": "1c22115c",
   "metadata": {},
   "outputs": [
    {
     "data": {
      "text/plain": [
       "260.53543348194887"
      ]
     },
     "execution_count": 29,
     "metadata": {},
     "output_type": "execute_result"
    }
   ],
   "source": [
    "calculate_perplexity(sentence, bigram_probabilities)"
   ]
  },
  {
   "cell_type": "markdown",
   "id": "19b2c04c",
   "metadata": {},
   "source": [
    "## Corpus length variation"
   ]
  },
  {
   "cell_type": "code",
   "execution_count": 30,
   "id": "e086ab43",
   "metadata": {},
   "outputs": [],
   "source": [
    "def get_corpus_length_variation(tokens, percentage):\n",
    "    length = int(percentage * len(tokens))\n",
    "    return corpus[:length]"
   ]
  },
  {
   "cell_type": "code",
   "execution_count": 31,
   "id": "20c22032",
   "metadata": {},
   "outputs": [],
   "source": [
    "sizes = [0.01, 0.05, 0.1, 0.5, 1.0]"
   ]
  },
  {
   "cell_type": "code",
   "execution_count": 32,
   "id": "1a8f6fce",
   "metadata": {},
   "outputs": [],
   "source": [
    "perplexities = []"
   ]
  },
  {
   "cell_type": "code",
   "execution_count": 33,
   "id": "348538f9",
   "metadata": {},
   "outputs": [],
   "source": [
    "for size in sizes:\n",
    "    sample_size = int(len(words) * size)\n",
    "    sample_tokens = words[:sample_size]\n",
    "    sample_bigrams = get_bigrams(sample_tokens)\n",
    "    sample_bigram_probs = get_ngram_probabilities(sample_bigrams)\n",
    "\n",
    "    perplexities.append(calculate_perplexity(sentence, sample_bigram_probs))"
   ]
  },
  {
   "cell_type": "code",
   "execution_count": 34,
   "id": "09787923",
   "metadata": {},
   "outputs": [
    {
     "data": {
      "image/png": "[encoded data removed]",
      "text/plain": [
       "<Figure size 1000x600 with 1 Axes>"
      ]
     },
     "metadata": {},
     "output_type": "display_data"
    }
   ],
   "source": [
    "plt.figure(figsize=(10, 6))\n",
    "plt.plot(sizes, perplexities, marker='o')\n",
    "plt.xscale('log')\n",
    "plt.xlabel('Tamaño del corpuss')\n",
    "plt.ylabel('Perplejidad')\n",
    "plt.grid(True)\n",
    "plt.xticks(sizes, [f\"{s:.2f}\" for s in sizes])\n",
    "plt.show()"
   ]
  },
  {
   "cell_type": "markdown",
   "id": "17cde3f0",
   "metadata": {},
   "source": [
    "## N-gram"
   ]
  },
  {
   "cell_type": "code",
   "execution_count": 35,
   "id": "5c8fb64e",
   "metadata": {},
   "outputs": [],
   "source": [
    "def get_ngrams(tokens, n):\n",
    "    ngrams = defaultdict(Counter)\n",
    "    \n",
    "    for i in range(len(tokens) - n + 1):\n",
    "        context = tuple(tokens[i:i + n - 1])\n",
    "        next_word = tokens[i + n - 1]\n",
    "        ngrams[context][next_word] += 1\n",
    "        \n",
    "    return ngrams"
   ]
  },
  {
   "cell_type": "code",
   "execution_count": 36,
   "id": "cdc97044",
   "metadata": {},
   "outputs": [],
   "source": [
    "def ngram_probabilities(ngrams):\n",
    "    probabilities = defaultdict(dict)\n",
    "    \n",
    "    for context, next_words in ngrams.items():\n",
    "        total_count = sum(next_words.values())\n",
    "        for word, count in next_words.items():\n",
    "            probabilities[context][word] = count / total_count\n",
    "            \n",
    "    return probabilities"
   ]
  },
  {
   "cell_type": "code",
   "execution_count": 37,
   "id": "834abda6",
   "metadata": {},
   "outputs": [],
   "source": [
    "def get_ngram_prob(context, word, probabilities):\n",
    "    probability = 1e-6\n",
    "    if context in probabilities and word in probabilities[context]:\n",
    "        probability = probabilities[context][word]\n",
    "    \n",
    "    return probability"
   ]
  },
  {
   "cell_type": "code",
   "execution_count": 38,
   "id": "ffd4bffb",
   "metadata": {},
   "outputs": [],
   "source": [
    "def ngram_perplexity(sentence, n, probabilities):\n",
    "    perplexity = float('inf')\n",
    "    \n",
    "    words = nltk.word_tokenize(sentence, language='spanish')\n",
    "\n",
    "    ngrams_test = list(nltk.ngrams(words, n))\n",
    "    log_prob_sum = 0\n",
    "    for ng in ngrams_test:\n",
    "        context = tuple(ng[:-1])\n",
    "        next_word = ng[-1]\n",
    "        prob = get_ngram_prob(context, next_word, probabilities)\n",
    "        log_prob_sum += math.log(prob)\n",
    "        \n",
    "    perplexity = math.exp(-log_prob_sum / len(ngrams_test))   \n",
    "    \n",
    "    return perplexity"
   ]
  },
  {
   "cell_type": "code",
   "execution_count": 39,
   "id": "4c0e70b0",
   "metadata": {},
   "outputs": [],
   "source": [
    "models_size = [2, 3, 4, 5]"
   ]
  },
  {
   "cell_type": "code",
   "execution_count": 40,
   "id": "51e3c85d",
   "metadata": {},
   "outputs": [],
   "source": [
    "models = {}"
   ]
  },
  {
   "cell_type": "code",
   "execution_count": 41,
   "id": "68403f97",
   "metadata": {},
   "outputs": [],
   "source": [
    "for n in models_size:\n",
    "    ngram_counts = get_ngrams(words, n)\n",
    "    probabilities = ngram_probabilities(ngram_counts)\n",
    "    models[n] = probabilities"
   ]
  },
  {
   "cell_type": "code",
   "execution_count": 42,
   "id": "7f609ce2",
   "metadata": {},
   "outputs": [],
   "source": [
    "perplexities_by_ngram = {}"
   ]
  },
  {
   "cell_type": "code",
   "execution_count": 43,
   "id": "07be2c07",
   "metadata": {},
   "outputs": [],
   "source": [
    "for n in models_size:\n",
    "    current_perplexities = []\n",
    "    for size in sizes:\n",
    "        sample_size = int(len(words) * size)\n",
    "        sample_tokens = words[:sample_size]\n",
    "        sample_ngrams = get_ngrams(sample_tokens, n)\n",
    "        sample_ngram_probs = ngram_probabilities(sample_ngrams)\n",
    "\n",
    "        current_perplexities.append(ngram_perplexity(sentence, n, sample_ngram_probs))\n",
    "    \n",
    "    perplexities_by_ngram[n] = current_perplexities"
   ]
  },
  {
   "cell_type": "code",
   "execution_count": 44,
   "id": "d78c41a1",
   "metadata": {},
   "outputs": [
    {
     "data": {
      "image/png": "[encoded data removed]",
      "text/plain": [
       "<Figure size 1000x600 with 1 Axes>"
      ]
     },
     "metadata": {},
     "output_type": "display_data"
    }
   ],
   "source": [
    "plt.figure(figsize=(10, 6))\n",
    "\n",
    "for n in models_size:\n",
    "    plt.plot(sizes, perplexities_by_ngram[n], marker='o', label=f'{n}-gram')\n",
    "\n",
    "plt.xscale('log')\n",
    "plt.xlabel('Tamaño del corpus')\n",
    "plt.ylabel('Perplejidad')\n",
    "plt.grid(True)\n",
    "plt.xticks(sizes, [f\"{s:.2f}\" for s in sizes])\n",
    "plt.title('Perplejidad de modelos n-gram')\n",
    "plt.legend()\n",
    "plt.show()\n"
   ]
  },
  {
   "cell_type": "code",
   "execution_count": 45,
   "id": "5a31d712",
   "metadata": {},
   "outputs": [
    {
     "name": "stdout",
     "output_type": "stream",
     "text": [
      "Perplejidad para 2-gramas: 395.99\n",
      "Perplejidad para 3-gramas: 10104.22\n",
      "Perplejidad para 4-gramas: 1000000.00\n",
      "Perplejidad para 5-gramas: 1000000.00\n"
     ]
    }
   ],
   "source": [
    "for n in models:\n",
    "    perp = ngram_perplexity(sentence, n, models[n])\n",
    "    print(f\"Perplejidad para {n}-gramas: {perp:.2f}\")"
   ]
  }
 ],
 "metadata": {
  "kernelspec": {
   "display_name": ".venv",
   "language": "python",
   "name": "python3"
  },
  "language_info": {
   "codemirror_mode": {
    "name": "ipython",
    "version": 3
   },
   "file_extension": ".py",
   "mimetype": "text/x-python",
   "name": "python",
   "nbconvert_exporter": "python",
   "pygments_lexer": "ipython3",
   "version": "3.9.0"
  }
 },
 "nbformat": 4,
 "nbformat_minor": 5
}
